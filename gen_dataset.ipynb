{
 "cells": [
  {
   "cell_type": "code",
   "execution_count": 1,
   "metadata": {},
   "outputs": [],
   "source": [
    "import pandas as pd\n",
    "from matplotlib import pyplot as plt\n",
    "import numpy as np\n",
    "import os\n",
    "import pickle"
   ]
  },
  {
   "cell_type": "code",
   "execution_count": 2,
   "metadata": {},
   "outputs": [],
   "source": [
    "data_path = os.path.join(os.getcwd(),\"cerebellum_data\")"
   ]
  },
  {
   "cell_type": "code",
   "execution_count": 3,
   "metadata": {},
   "outputs": [],
   "source": [
    "def process_data():\n",
    "    cached = {}\n",
    "    output = []\n",
    "    for s in [\"counts\", \"genes\", \"metadata\"]:\n",
    "        #check if we have already processed the dataset\n",
    "        filename = os.path.join(data_path,\"cerebellum_%s.pickle\" % s)\n",
    "        cached = os.path.isfile(filename)\n",
    "        if cached:\n",
    "            output.append(pd.read_pickle(filename))\n",
    "        else:\n",
    "            #if not processed, read from csv and save pickled file\n",
    "            csv_file = os.path.join(data_path, \"cerebellum_%s.csv\" % s)\n",
    "            df = pd.read_csv(csv_file,index_col=0)\n",
    "            if s in ['counts','genes']:\n",
    "                df = df.transpose()\n",
    "            df.to_pickle(filename)\n",
    "            output.append(df)\n",
    "    return output"
   ]
  },
  {
   "cell_type": "code",
   "execution_count": 4,
   "metadata": {},
   "outputs": [
    {
     "name": "stdout",
     "output_type": "stream",
     "text": [
      "CPU times: user 611 ms, sys: 2.61 s, total: 3.22 s\n",
      "Wall time: 8.24 s\n"
     ]
    }
   ],
   "source": [
    "%%time\n",
    "\n",
    "counts, genes, metadata = process_data()"
   ]
  },
  {
   "cell_type": "code",
   "execution_count": 5,
   "metadata": {},
   "outputs": [],
   "source": [
    "#in case we need to correct for excel conversions\n",
    "\n",
    "#lookup = dict(counts)\n",
    "#for g in genes.loc['gene'].tolist():\n",
    "#    if g not in lookup:\n",
    "#        print(g)"
   ]
  },
  {
   "cell_type": "code",
   "execution_count": 6,
   "metadata": {},
   "outputs": [],
   "source": [
    "considered_types = ['Granule', 'Purkinje', 'Astrocytes']\n",
    "#filter by cell type\n",
    "c_subset = counts.loc[metadata['liger_ident_coarse'].isin(considered_types)]\n",
    "#filter genes\n",
    "c_subset = c_subset.filter(genes.loc['gene'].tolist())\n",
    "#normalize matrix of counts\n",
    "#(note: these proportions are conditioned on genes being in frequent set)\n",
    "c_subset = c_subset.div(c_subset.sum(axis=1), axis=0)"
   ]
  },
  {
   "cell_type": "code",
   "execution_count": 7,
   "metadata": {},
   "outputs": [],
   "source": [
    "def generate_doublets(rows = 10000):\n",
    "    num_rows = rows\n",
    "    doublets_file = os.path.join(data_path,\"doublets_%s.pickle\" % num_rows)\n",
    "    origins_file = os.path.join(data_path,\"origins_%s.pickle\" % num_rows)\n",
    "    #check if cached\n",
    "    if os.path.isfile(doublets_file) and os.path.isfile(origins_file):\n",
    "        return pd.read_pickle(doublets_file), pd.read_pickle(origins_file)\n",
    "    \n",
    "    row_list = []\n",
    "    gen_list = []\n",
    "    for i in range(num_rows):\n",
    "        sample = c_subset.sample(n = 2, replace = True)\n",
    "        \n",
    "        #append new row to dataframe\n",
    "        new_row = sample.sum()\n",
    "        row_list.append(new_row)\n",
    "        \n",
    "        #keep track of the ground truth cells\n",
    "        gen_cells = sample.index.tolist()\n",
    "        gen_list.append(gen_cells)\n",
    "        \n",
    "    mixtures = pd.DataFrame(row_list)\n",
    "    origins = pd.DataFrame(gen_list)\n",
    "    \n",
    "    #normalize\n",
    "    mixtures = mixtures.div(mixtures.sum(axis=1), axis=0)\n",
    "    mixtures.to_pickle(doublets_file)\n",
    "    origins.to_pickle(origins_file)\n",
    "    return mixtures, origins"
   ]
  },
  {
   "cell_type": "code",
   "execution_count": 8,
   "metadata": {},
   "outputs": [
    {
     "name": "stdout",
     "output_type": "stream",
     "text": [
      "CPU times: user 3.42 ms, sys: 4.66 ms, total: 8.08 ms\n",
      "Wall time: 43.4 ms\n",
      "        Grid2     Pcsk6     Gria1     Prkg1     Sntg1  Cntnap5a      Gad1  \\\n",
      "0    0.002292  0.000000  0.000000  0.000000  0.000000  0.000000  0.000000   \n",
      "1    0.010321  0.000000  0.000000  0.000000  0.000000  0.000000  0.000000   \n",
      "2    0.039284  0.001216  0.000640  0.008829  0.000064  0.000320  0.000320   \n",
      "3    0.035334  0.000601  0.000343  0.004249  0.000000  0.000086  0.000129   \n",
      "4    0.067627  0.000674  0.000778  0.010916  0.000233  0.000428  0.000078   \n",
      "..        ...       ...       ...       ...       ...       ...       ...   \n",
      "355  0.043343  0.000373  0.000187  0.008861  0.000806  0.000249  0.000124   \n",
      "356  0.045186  0.000000  0.004121  0.000948  0.000000  0.000000  0.000000   \n",
      "357  0.071904  0.000508  0.000610  0.010336  0.000508  0.000169  0.000203   \n",
      "358  0.068352  0.000831  0.000489  0.010726  0.000147  0.000635  0.000049   \n",
      "359  0.052361  0.000489  0.000489  0.004581  0.000180  0.000206  0.000180   \n",
      "\n",
      "       Snhg11     Gria2      Dab1  ...  Slc24a3     Ptprk      Rarb  \\\n",
      "0    0.004785  0.002820  0.001410  ...  0.00000  0.000000  0.000000   \n",
      "1    0.000000  0.000692  0.000000  ...  0.00000  0.000000  0.000370   \n",
      "2    0.009405  0.003521  0.002687  ...  0.00000  0.000000  0.000000   \n",
      "3    0.008325  0.004065  0.002633  ...  0.00000  0.000043  0.000000   \n",
      "4    0.009775  0.001608  0.004537  ...  0.00035  0.000376  0.000350   \n",
      "..        ...       ...       ...  ...      ...       ...       ...   \n",
      "355  0.008299  0.002980  0.002394  ...  0.00000  0.000031  0.000031   \n",
      "356  0.000000  0.000000  0.000000  ...  0.00364  0.001003  0.000000   \n",
      "357  0.008203  0.002610  0.004737  ...  0.00000  0.000000  0.000000   \n",
      "358  0.010215  0.002053  0.003324  ...  0.00000  0.000049  0.000000   \n",
      "359  0.007515  0.001596  0.001596  ...  0.00000  0.000026  0.001920   \n",
      "\n",
      "     5031439G07Rik      Sox8     Rcan2     Rab31     Scrg1     Reep5    Homer2  \n",
      "0         0.000000  0.000000  0.000000  0.000000  0.000000  0.000478  0.000000  \n",
      "1         0.000000  0.000000  0.000692  0.000000  0.000000  0.000000  0.000000  \n",
      "2         0.000000  0.000000  0.001217  0.000128  0.000000  0.001217  0.000000  \n",
      "3         0.000000  0.000000  0.000043  0.000000  0.000000  0.000000  0.001346  \n",
      "4         0.001076  0.000350  0.000778  0.001932  0.000700  0.000000  0.000000  \n",
      "..             ...       ...       ...       ...       ...       ...       ...  \n",
      "355       0.000031  0.000000  0.000000  0.000000  0.000000  0.000000  0.000000  \n",
      "356       0.000000  0.000687  0.000000  0.001263  0.001319  0.000000  0.000000  \n",
      "357       0.000034  0.000000  0.000000  0.000740  0.000000  0.000302  0.000336  \n",
      "358       0.000049  0.000217  0.000098  0.000750  0.000000  0.000000  0.000435  \n",
      "359       0.000000  0.000000  0.000000  0.000051  0.000000  0.000000  0.000026  \n",
      "\n",
      "[360 rows x 899 columns]\n",
      "                              0                            1\n",
      "0    VIIa_M006_AGGGTTTCAGAGTCTT   SIMd_M002_ACATCGACACTATCGA\n",
      "1    AN2c_M002_TGTGAGTGTGGATCAG    VIc_M006_AACAGGGTCGCAATTG\n",
      "2      Ia_M001_CATGCCTAGAGCAGTC     VI_F001_AACCACAAGGAACGAA\n",
      "3     IXa_M003_ACCCTCAAGGCCCAAA   PRMa_M006_TGATGGTGTCACCTTC\n",
      "4    AN2c_F002_AGCTACAGTGTATACC  VIIIa_F002_AGGGAGTCATTACTCT\n",
      "..                          ...                          ...\n",
      "355   IXd_M006_AATGAAGAGATACGAT    VIc_M006_ATGGTTGGTATGAAAC\n",
      "356  AN1b_M002_ATCATTCTCAACGAGG      I_F001_CGAGAAGCACTCCCTA\n",
      "357  AN1c_M002_GAATAGAGTGTTGCCG  VIIIa_M001_GAAATGACAGTTCCAA\n",
      "358    Ia_M001_GATTGGTCAGGAGGTT    VIe_M002_TCACTATAGATCACTC\n",
      "359   PFa_M006_GCAGGCTCACCGGAAA      F_M001_GCATCTCGTGTTCCAA\n",
      "\n",
      "[360 rows x 2 columns]\n"
     ]
    }
   ],
   "source": [
    "%time doublets, origins = generate_doublets(360)\n",
    "\n",
    "print(doublets)\n",
    "print(origins)"
   ]
  },
  {
   "cell_type": "code",
   "execution_count": 9,
   "metadata": {},
   "outputs": [],
   "source": [
    "from sklearn.decomposition import LatentDirichletAllocation as LDA"
   ]
  },
  {
   "cell_type": "code",
   "execution_count": 10,
   "metadata": {},
   "outputs": [
    {
     "name": "stdout",
     "output_type": "stream",
     "text": [
      "CPU times: user 11 µs, sys: 15 µs, total: 26 µs\n",
      "Wall time: 31.7 µs\n",
      "[[0.1745784  0.17457841 0.65084319]\n",
      " [0.17622564 0.17622564 0.64754872]\n",
      " [0.17392182 0.17392182 0.65215635]\n",
      " ...\n",
      " [0.17503798 0.17503798 0.64992403]\n",
      " [0.17510081 0.17510081 0.64979839]\n",
      " [0.17310268 0.17310268 0.65379464]]\n"
     ]
    }
   ],
   "source": [
    "%time lda = LDA(n_components=3, max_iter=100, random_state=0)\n",
    "lda.fit(doublets)\n",
    "print(lda.transform(doublets))"
   ]
  },
  {
   "cell_type": "code",
   "execution_count": 12,
   "metadata": {},
   "outputs": [
    {
     "name": "stdout",
     "output_type": "stream",
     "text": [
      "using pickled file for size 100000\n"
     ]
    }
   ],
   "source": [
    "lda_fits = {}\n",
    "sim_doublets = {}\n",
    "sim_origins = {}\n",
    "sizes = [100000]\n",
    "\n",
    "for size in sizes:\n",
    "    doublets, origins = generate_doublets(size)\n",
    "    sim_doublets[size] = doublets\n",
    "    sim_origins[size] = origins\n",
    "    ldafit_file = os.path.join(data_path,\"ldafit_%s.pickle.npy\" % size)\n",
    "    if os.path.isfile(ldafit_file):\n",
    "        print(\"using pickled file for size\", size)\n",
    "        lda_fits[size] = np.load(file = ldafit_file, allow_pickle=True)\n",
    "    else:\n",
    "        %time lda.fit(doublets)\n",
    "        %time lda_fits[size] = lda.transform(doublets)\n",
    "        print(lda.transform(doublets))\n",
    "        np.save(file=os.path.join(data_path,\"ldafit_%s.pickle\" % size), arr=lda_fits[size])"
   ]
  },
  {
   "cell_type": "code",
   "execution_count": 13,
   "metadata": {},
   "outputs": [
    {
     "name": "stdout",
     "output_type": "stream",
     "text": [
      "CPU times: user 14 ms, sys: 2.3 ms, total: 16.3 ms\n",
      "Wall time: 397 ms\n"
     ]
    }
   ],
   "source": [
    "celldict = dict(metadata.loc[metadata['liger_ident_coarse'].isin(considered_types)]['liger_ident_coarse'])\n",
    "decomp = []\n",
    "typeindex = {e: i for i, e in enumerate(considered_types)}\n",
    "indexer = sim_origins[100000].applymap(\n",
    "    lambda cell: typeindex[celldict[cell]])\n",
    "%time indicators = pd.get_dummies(indexer[0]) | pd.get_dummies(indexer[1])"
   ]
  },
  {
   "cell_type": "code",
   "execution_count": 17,
   "metadata": {},
   "outputs": [],
   "source": [
    "thresholds = np.linspace(0.15,0.45,num=60)\n",
    "accs = []\n",
    "a = indicators.values"
   ]
  },
  {
   "cell_type": "code",
   "execution_count": 19,
   "metadata": {},
   "outputs": [],
   "source": [
    "for t in thresholds:\n",
    "    b = np.apply_along_axis(lambda row: [1 if k > t else 0 for k in row], 1, lda_fits[100000])\n",
    "    \n",
    "    bad = 0        \n",
    "    \n",
    "    for i, e in enumerate(zip(a, b)):\n",
    "        x, y = e\n",
    "        if any(x != y):\n",
    "            bad += 1\n",
    "    acc = 1-bad/100000\n",
    "    accs.append(acc)"
   ]
  },
  {
   "cell_type": "code",
   "execution_count": 20,
   "metadata": {},
   "outputs": [
    {
     "data": {
      "image/png": "[encoded data removed]",
      "text/plain": [
       "<Figure size 432x288 with 1 Axes>"
      ]
     },
     "metadata": {
      "needs_background": "light"
     },
     "output_type": "display_data"
    }
   ],
   "source": [
    "plt.plot(thresholds,accs)\n",
    "plt.title(\"Accuracies vs Threshold\")\n",
    "plt.xlabel(\"Threshold\")\n",
    "plt.xlabel(\"Accuracy\")\n",
    "plt.show()"
   ]
  },
  {
   "cell_type": "code",
   "execution_count": null,
   "metadata": {},
   "outputs": [],
   "source": []
  }
 ],
 "metadata": {
  "kernelspec": {
   "display_name": "Python 3",
   "language": "python",
   "name": "python3"
  },
  "language_info": {
   "codemirror_mode": {
    "name": "ipython",
    "version": 3
   },
   "file_extension": ".py",
   "mimetype": "text/x-python",
   "name": "python",
   "nbconvert_exporter": "python",
   "pygments_lexer": "ipython3",
   "version": "3.7.6"
  }
 },
 "nbformat": 4,
 "nbformat_minor": 4
}
